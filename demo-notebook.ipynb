{
 "cells": [
  {
   "cell_type": "markdown",
   "metadata": {
    "slideshow": {
     "slide_type": "notes"
    },
    "tags": []
   },
   "source": [
    "# Understanding the structure of cities through the lens of data\n",
    "\n",
    "#### SDSS 2022 Workshop by:\n",
    "\n",
    "### [Martin Fleischmann](https://martinfleischmann.net)<sup>1,2,3</sup> & [James D. Gaboardi](https://www.ornl.gov/staff-profile/james-d-gaboardi)<sup>4</sup>\n",
    "  \n",
    "1. Geographic Data Science Lab, University of Liverpool\n",
    "2. Urban and Regional Laboratory, Charles University\n",
    "3. UrbanDataLab AG, Zurich\n",
    "4. Oak Ridge National Laboratory"
   ]
  },
  {
   "cell_type": "markdown",
   "metadata": {
    "slideshow": {
     "slide_type": "notes"
    },
    "tags": []
   },
   "source": [
    "<hr>\n",
    "\n",
    "Materials:\n",
    "\n",
    "<div style=\"font-size:40px;\">\n",
    "github.com/martinfleis/sdss22-workshop\n",
    "</div>\n",
    "<br>\n",
    "\n",
    "Open in an interactive in-browser environment: \n",
    "\n",
    "[![Binder](https://mybinder.org/badge_logo.svg)](https://mybinder.org/v2/gh/martinfleis/sdss22-workshop/HEAD?labpath=demo-notebook.ipynb)"
   ]
  },
  {
   "cell_type": "code",
   "execution_count": null,
   "metadata": {
    "ExecuteTime": {
     "end_time": "2022-09-23T12:52:08.600228Z",
     "start_time": "2022-09-23T12:52:08.589921Z"
    },
    "tags": []
   },
   "outputs": [],
   "source": [
    "%%html\n",
    " <iframe height=\"750\" width=\"100%\" src=\"https://martinfleis.github.io/sdss22-workshop/slides/intro.html\", style=\"border:0\"></iframe>"
   ]
  },
  {
   "cell_type": "markdown",
   "metadata": {},
   "source": [
    "## Agenda\n",
    "1. Wrangling input data\n",
    "2. Generating & combining morphometric elements\n",
    "3. Measuring morphometric characters\n",
    "4. Understanding context & clustering\n",
    "5. Wrap up\n",
    "-------------------------"
   ]
  },
  {
   "cell_type": "code",
   "execution_count": null,
   "metadata": {
    "ExecuteTime": {
     "end_time": "2022-09-23T12:52:08.659018Z",
     "start_time": "2022-09-23T12:52:08.604135Z"
    }
   },
   "outputs": [],
   "source": [
    "%config InlineBackend.figure_format = \"retina\"\n",
    "%load_ext watermark\n",
    "%watermark"
   ]
  },
  {
   "cell_type": "code",
   "execution_count": null,
   "metadata": {
    "ExecuteTime": {
     "end_time": "2022-09-23T12:52:16.235891Z",
     "start_time": "2022-09-23T12:52:08.663158Z"
    },
    "slideshow": {
     "slide_type": "skip"
    },
    "tags": []
   },
   "outputs": [],
   "source": [
    "import bokeh\n",
    "from bokeh.io import output_notebook\n",
    "from bokeh.plotting import show\n",
    "import clustergram\n",
    "import contextily\n",
    "import geopandas\n",
    "import libpysal\n",
    "import matplotlib.pyplot as plt\n",
    "import momepy\n",
    "import osmnx\n",
    "import pandas\n",
    "import tqdm\n",
    "import warnings\n",
    "%watermark -iv\n",
    "bokeh.io.output_notebook()"
   ]
  },
  {
   "cell_type": "markdown",
   "metadata": {},
   "source": [
    "----------------------------------\n",
    "\n",
    "## 1. Wrangling input data\n",
    "\n",
    "### Pick a place and set its local CRS.\n",
    "This should ideally be a town with a good coverage in [OpenStreetMap](https://www.openstreetmap.org)."
   ]
  },
  {
   "cell_type": "code",
   "execution_count": null,
   "metadata": {
    "ExecuteTime": {
     "end_time": "2022-09-23T12:52:16.241657Z",
     "start_time": "2022-09-23T12:52:16.238824Z"
    },
    "slideshow": {
     "slide_type": "slide"
    },
    "tags": []
   },
   "outputs": [],
   "source": [
    "place = \"St. Gallen, St. Gallen, Schweiz\"\n",
    "local_crs = 2056"
   ]
  },
  {
   "cell_type": "markdown",
   "metadata": {},
   "source": [
    "Explore with [`geopandas`](https://geopandas.org/en/stable/)."
   ]
  },
  {
   "cell_type": "code",
   "execution_count": null,
   "metadata": {
    "ExecuteTime": {
     "end_time": "2022-09-23T12:52:17.313952Z",
     "start_time": "2022-09-23T12:52:16.245875Z"
    }
   },
   "outputs": [],
   "source": [
    "geopandas.tools.geocode(place).explore()"
   ]
  },
  {
   "cell_type": "markdown",
   "metadata": {
    "slideshow": {
     "slide_type": "slide"
    },
    "tags": []
   },
   "source": [
    "### Download data from OpenStreetMap.\n",
    "\n",
    "Query OSM with [`osmnx`](https://osmnx.readthedocs.io/en/stable/).\n",
    "\n",
    "#### Buildings"
   ]
  },
  {
   "cell_type": "code",
   "execution_count": null,
   "metadata": {
    "ExecuteTime": {
     "end_time": "2022-09-23T12:52:19.504152Z",
     "start_time": "2022-09-23T12:52:17.316364Z"
    },
    "slideshow": {
     "slide_type": "subslide"
    },
    "tags": []
   },
   "outputs": [],
   "source": [
    "buildings = osmnx.geometries.geometries_from_place(place, tags={\"building\": True})\n",
    "buildings.head()"
   ]
  },
  {
   "cell_type": "code",
   "execution_count": null,
   "metadata": {
    "ExecuteTime": {
     "end_time": "2022-09-23T12:52:19.521887Z",
     "start_time": "2022-09-23T12:52:19.508975Z"
    }
   },
   "outputs": [],
   "source": [
    "buildings.geom_type.value_counts()"
   ]
  },
  {
   "cell_type": "code",
   "execution_count": null,
   "metadata": {
    "ExecuteTime": {
     "end_time": "2022-09-23T12:52:19.560803Z",
     "start_time": "2022-09-23T12:52:19.524309Z"
    }
   },
   "outputs": [],
   "source": [
    "buildings = buildings[buildings.geom_type == \"Polygon\"].reset_index(drop=True)"
   ]
  },
  {
   "cell_type": "code",
   "execution_count": null,
   "metadata": {
    "ExecuteTime": {
     "end_time": "2022-09-23T12:52:21.325000Z",
     "start_time": "2022-09-23T12:52:19.563058Z"
    }
   },
   "outputs": [],
   "source": [
    "buildings.geometry.explore(prefer_canvas=True, tiles=\"CartoDB Positron\")"
   ]
  },
  {
   "cell_type": "code",
   "execution_count": null,
   "metadata": {
    "ExecuteTime": {
     "end_time": "2022-09-23T12:52:21.417320Z",
     "start_time": "2022-09-23T12:52:21.327357Z"
    },
    "slideshow": {
     "slide_type": "fragment"
    },
    "tags": []
   },
   "outputs": [],
   "source": [
    "buildings = buildings[[\"geometry\"]].to_crs(local_crs)"
   ]
  },
  {
   "cell_type": "code",
   "execution_count": null,
   "metadata": {
    "ExecuteTime": {
     "end_time": "2022-09-23T12:52:21.437096Z",
     "start_time": "2022-09-23T12:52:21.422585Z"
    },
    "slideshow": {
     "slide_type": "fragment"
    }
   },
   "outputs": [],
   "source": [
    "buildings[\"uID\"] = range(len(buildings))\n",
    "buildings"
   ]
  },
  {
   "cell_type": "markdown",
   "metadata": {
    "slideshow": {
     "slide_type": "subslide"
    },
    "tags": []
   },
   "source": [
    "#### Streets"
   ]
  },
  {
   "cell_type": "code",
   "execution_count": null,
   "metadata": {
    "ExecuteTime": {
     "end_time": "2022-09-23T12:52:24.321459Z",
     "start_time": "2022-09-23T12:52:21.439638Z"
    },
    "slideshow": {
     "slide_type": "subslide"
    }
   },
   "outputs": [],
   "source": [
    "osm_graph = osmnx.graph_from_place(place, network_type=\"drive\")"
   ]
  },
  {
   "cell_type": "code",
   "execution_count": null,
   "metadata": {
    "ExecuteTime": {
     "end_time": "2022-09-23T12:52:24.730699Z",
     "start_time": "2022-09-23T12:52:24.324529Z"
    },
    "slideshow": {
     "slide_type": "fragment"
    }
   },
   "outputs": [],
   "source": [
    "osm_graph = osmnx.projection.project_graph(osm_graph, to_crs=local_crs)"
   ]
  },
  {
   "cell_type": "code",
   "execution_count": null,
   "metadata": {
    "ExecuteTime": {
     "end_time": "2022-09-23T12:52:24.840754Z",
     "start_time": "2022-09-23T12:52:24.733525Z"
    },
    "slideshow": {
     "slide_type": "fragment"
    }
   },
   "outputs": [],
   "source": [
    "streets = osmnx.graph_to_gdfs(osm_graph, nodes=False, node_geometry=False)\n",
    "streets.head()"
   ]
  },
  {
   "cell_type": "code",
   "execution_count": null,
   "metadata": {
    "ExecuteTime": {
     "end_time": "2022-09-23T12:52:25.459102Z",
     "start_time": "2022-09-23T12:52:24.843536Z"
    }
   },
   "outputs": [],
   "source": [
    "streets.geometry.explore(prefer_canvas=True, tiles=\"CartoDB Positron\")"
   ]
  },
  {
   "cell_type": "code",
   "execution_count": null,
   "metadata": {
    "ExecuteTime": {
     "end_time": "2022-09-23T12:52:25.563972Z",
     "start_time": "2022-09-23T12:52:25.461238Z"
    },
    "slideshow": {
     "slide_type": "fragment"
    }
   },
   "outputs": [],
   "source": [
    "streets = momepy.remove_false_nodes(streets)\n",
    "streets = streets[[\"geometry\"]]\n",
    "streets[\"nID\"] = range(len(streets))\n",
    "streets"
   ]
  },
  {
   "cell_type": "markdown",
   "metadata": {
    "tags": []
   },
   "source": [
    "---------------\n",
    "\n",
    "## 2. Generating & combining morphometric elements\n",
    "### Create a tessellation.\n",
    "\n",
    "Given the following building footprints:"
   ]
  },
  {
   "cell_type": "markdown",
   "metadata": {
    "tags": []
   },
   "source": [
    "![blg](http://docs.momepy.org/en/stable/_images/user_guide_elements_tessellation_3_0.png)"
   ]
  },
  {
   "cell_type": "markdown",
   "metadata": {},
   "source": [
    "We can generate a spatial units using Voronoi tessellation:"
   ]
  },
  {
   "cell_type": "code",
   "execution_count": null,
   "metadata": {
    "ExecuteTime": {
     "end_time": "2022-09-23T12:52:25.723442Z",
     "start_time": "2022-09-23T12:52:25.566261Z"
    },
    "slideshow": {
     "slide_type": "fragment"
    }
   },
   "outputs": [],
   "source": [
    "bubenec = momepy.datasets.get_path(\"bubenec\")\n",
    "bubenec_blg = geopandas.read_file(bubenec, layer=\"buildings\")\n",
    "bubenec_tess = geopandas.read_file(bubenec, layer=\"tessellation\")"
   ]
  },
  {
   "cell_type": "code",
   "execution_count": null,
   "metadata": {
    "ExecuteTime": {
     "end_time": "2022-09-23T12:52:25.728891Z",
     "start_time": "2022-09-23T12:52:25.726187Z"
    }
   },
   "outputs": [],
   "source": [
    "toner_lite = contextily.providers.Stamen.TonerLite"
   ]
  },
  {
   "cell_type": "code",
   "execution_count": null,
   "metadata": {
    "ExecuteTime": {
     "end_time": "2022-09-23T12:52:32.020241Z",
     "start_time": "2022-09-23T12:52:25.730902Z"
    },
    "slideshow": {
     "slide_type": "fragment"
    }
   },
   "outputs": [],
   "source": [
    "with warnings.catch_warnings():\n",
    "    warnings.simplefilter(\"ignore\")\n",
    "    ax = bubenec_blg.plot(figsize=(12, 12))\n",
    "    bubenec_tess.plot(ax=ax, facecolor=\"none\", edgecolor=\"r\")\n",
    "    contextily.add_basemap(ax=ax, crs=bubenec_tess.crs, source=toner_lite)\n",
    "    ax.set_axis_off()"
   ]
  },
  {
   "cell_type": "code",
   "execution_count": null,
   "metadata": {
    "ExecuteTime": {
     "end_time": "2022-09-23T12:53:49.670304Z",
     "start_time": "2022-09-23T12:52:32.022712Z"
    },
    "slideshow": {
     "slide_type": "subslide"
    }
   },
   "outputs": [],
   "source": [
    "limit = momepy.buffered_limit(buildings, 100)\n",
    "tessellation = momepy.Tessellation(buildings, \"uID\", limit, segment=1).tessellation"
   ]
  },
  {
   "cell_type": "markdown",
   "metadata": {
    "slideshow": {
     "slide_type": "subslide"
    },
    "tags": []
   },
   "source": [
    "#### Link streets\n",
    "\n",
    "Link unique IDs of streets to buildings and tessellation cells based on the nearest neighbor join."
   ]
  },
  {
   "cell_type": "code",
   "execution_count": null,
   "metadata": {
    "ExecuteTime": {
     "end_time": "2022-09-23T12:53:50.349882Z",
     "start_time": "2022-09-23T12:53:49.672488Z"
    }
   },
   "outputs": [],
   "source": [
    "buildings = buildings.sjoin_nearest(streets, max_distance=1000, how=\"left\")\n",
    "buildings"
   ]
  },
  {
   "cell_type": "code",
   "execution_count": null,
   "metadata": {
    "ExecuteTime": {
     "end_time": "2022-09-23T12:53:50.366090Z",
     "start_time": "2022-09-23T12:53:50.351942Z"
    }
   },
   "outputs": [],
   "source": [
    "buildings = buildings.drop_duplicates(\"uID\").drop(columns=\"index_right\")"
   ]
  },
  {
   "cell_type": "code",
   "execution_count": null,
   "metadata": {
    "ExecuteTime": {
     "end_time": "2022-09-23T12:53:50.379516Z",
     "start_time": "2022-09-23T12:53:50.368297Z"
    }
   },
   "outputs": [],
   "source": [
    "tessellation = tessellation.merge(buildings[[\"uID\", \"nID\"]], on=\"uID\", how=\"left\")"
   ]
  },
  {
   "cell_type": "markdown",
   "metadata": {
    "slideshow": {
     "slide_type": "slide"
    }
   },
   "source": [
    "--------------------\n",
    "\n",
    "\n",
    "## 3. Measuring morphometric characters\n",
    "### Measure individual morphometric characters.\n",
    "#### Dimensions"
   ]
  },
  {
   "cell_type": "code",
   "execution_count": null,
   "metadata": {
    "ExecuteTime": {
     "end_time": "2022-09-23T12:53:50.391992Z",
     "start_time": "2022-09-23T12:53:50.382084Z"
    },
    "slideshow": {
     "slide_type": "subslide"
    }
   },
   "outputs": [],
   "source": [
    "buildings[\"area\"] = buildings.area\n",
    "tessellation[\"area\"] = tessellation.area\n",
    "streets[\"length\"] = streets.length"
   ]
  },
  {
   "cell_type": "markdown",
   "metadata": {
    "slideshow": {
     "slide_type": "subslide"
    }
   },
   "source": [
    "#### Shape"
   ]
  },
  {
   "cell_type": "code",
   "execution_count": null,
   "metadata": {
    "ExecuteTime": {
     "end_time": "2022-09-23T12:53:54.395900Z",
     "start_time": "2022-09-23T12:53:50.395198Z"
    },
    "slideshow": {
     "slide_type": "subslide"
    }
   },
   "outputs": [],
   "source": [
    "buildings[\"eri\"] = momepy.EquivalentRectangularIndex(buildings).series"
   ]
  },
  {
   "cell_type": "code",
   "execution_count": null,
   "metadata": {
    "ExecuteTime": {
     "end_time": "2022-09-23T12:53:59.102194Z",
     "start_time": "2022-09-23T12:53:54.398641Z"
    },
    "slideshow": {
     "slide_type": "fragment"
    }
   },
   "outputs": [],
   "source": [
    "buildings[\"elongation\"] = momepy.Elongation(buildings).series"
   ]
  },
  {
   "cell_type": "code",
   "execution_count": null,
   "metadata": {
    "ExecuteTime": {
     "end_time": "2022-09-23T12:53:59.566509Z",
     "start_time": "2022-09-23T12:53:59.105351Z"
    }
   },
   "outputs": [],
   "source": [
    "tessellation[\"convexity\"] = momepy.Convexity(tessellation).series"
   ]
  },
  {
   "cell_type": "code",
   "execution_count": null,
   "metadata": {
    "ExecuteTime": {
     "end_time": "2022-09-23T12:53:59.784736Z",
     "start_time": "2022-09-23T12:53:59.569383Z"
    }
   },
   "outputs": [],
   "source": [
    "streets[\"linearity\"] = momepy.Linearity(streets).series"
   ]
  },
  {
   "cell_type": "markdown",
   "metadata": {},
   "source": [
    "Declare some plotting symbology and cartographic elements that we can reuse."
   ]
  },
  {
   "cell_type": "code",
   "execution_count": null,
   "metadata": {
    "ExecuteTime": {
     "end_time": "2022-09-23T12:53:59.810945Z",
     "start_time": "2022-09-23T12:53:59.805361Z"
    }
   },
   "outputs": [],
   "source": [
    "symb_kws = dict(scheme=\"natural_breaks\", legend=True)\n",
    "font_kws = dict(fontdict={\"fontsize\":20})"
   ]
  },
  {
   "cell_type": "code",
   "execution_count": null,
   "metadata": {
    "ExecuteTime": {
     "end_time": "2022-09-23T12:54:08.680285Z",
     "start_time": "2022-09-23T12:53:59.813480Z"
    }
   },
   "outputs": [],
   "source": [
    "fig, ax = plt.subplots(1, 2, figsize=(24, 12))\n",
    "for i, col in enumerate([\"eri\", \"elongation\"]):\n",
    "    buildings.plot(col, ax=ax[i], **symb_kws)\n",
    "    ax[i].set_title(col, **font_kws)\n",
    "    ax[i].set_axis_off()\n",
    "fig.subplots_adjust(wspace=-.05)"
   ]
  },
  {
   "cell_type": "code",
   "execution_count": null,
   "metadata": {
    "ExecuteTime": {
     "end_time": "2022-09-23T12:54:15.000113Z",
     "start_time": "2022-09-23T12:54:08.682706Z"
    }
   },
   "outputs": [],
   "source": [
    "fig, ax = plt.subplots(1, 2, figsize=(24, 12))\n",
    "for i, (df, col) in enumerate(zip([tessellation, streets], [\"convexity\", \"linearity\"])):\n",
    "    df.plot(col, ax=ax[i], **symb_kws)\n",
    "    ax[i].set_title(col, **font_kws)\n",
    "    ax[i].set_axis_off()\n",
    "fig.subplots_adjust(wspace=-.05)"
   ]
  },
  {
   "cell_type": "markdown",
   "metadata": {
    "slideshow": {
     "slide_type": "subslide"
    }
   },
   "source": [
    "#### Spatial distribution"
   ]
  },
  {
   "cell_type": "code",
   "execution_count": null,
   "metadata": {
    "ExecuteTime": {
     "end_time": "2022-09-23T12:54:15.686519Z",
     "start_time": "2022-09-23T12:54:15.003004Z"
    },
    "slideshow": {
     "slide_type": "subslide"
    }
   },
   "outputs": [],
   "source": [
    "buildings[\"shared_walls\"] = momepy.SharedWallsRatio(buildings).series"
   ]
  },
  {
   "cell_type": "code",
   "execution_count": null,
   "metadata": {
    "ExecuteTime": {
     "end_time": "2022-09-23T12:54:19.622702Z",
     "start_time": "2022-09-23T12:54:15.690812Z"
    }
   },
   "outputs": [],
   "source": [
    "ax = buildings.plot(\"shared_walls\", figsize=(12, 6), **symb_kws)\n",
    "ax.set_title(\"shared_walls\", **font_kws)\n",
    "ax.set_axis_off()"
   ]
  },
  {
   "cell_type": "markdown",
   "metadata": {},
   "source": [
    "Generate spatial weights matrices using [`libpysal`](https://github.com/pysal/libpysal).\n",
    "\n",
    "What are they?"
   ]
  },
  {
   "cell_type": "code",
   "execution_count": null,
   "metadata": {
    "ExecuteTime": {
     "end_time": "2022-09-23T12:54:19.730525Z",
     "start_time": "2022-09-23T12:54:19.625940Z"
    },
    "slideshow": {
     "slide_type": "fragment"
    }
   },
   "outputs": [],
   "source": [
    "w = libpysal.weights.Queen.from_dataframe(bubenec_tess)"
   ]
  },
  {
   "cell_type": "code",
   "execution_count": null,
   "metadata": {
    "ExecuteTime": {
     "end_time": "2022-09-23T12:54:19.742500Z",
     "start_time": "2022-09-23T12:54:19.734285Z"
    }
   },
   "outputs": [],
   "source": [
    "edge_kws = dict(color=\"b\", linewidth=1)\n",
    "node_kws = dict(marker=\"\")\n",
    "wght_kws = dict(edge_kws=edge_kws, node_kws=node_kws)"
   ]
  },
  {
   "cell_type": "code",
   "execution_count": null,
   "metadata": {
    "ExecuteTime": {
     "end_time": "2022-09-23T12:54:23.390242Z",
     "start_time": "2022-09-23T12:54:19.745116Z"
    },
    "slideshow": {
     "slide_type": "subslide"
    }
   },
   "outputs": [],
   "source": [
    "with warnings.catch_warnings():\n",
    "    warnings.simplefilter(\"ignore\")\n",
    "    ax = bubenec_blg.plot(figsize=(12, 12), color=\"lightgray\")\n",
    "    bubenec_tess.plot(ax=ax, facecolor=\"none\", edgecolor=\"r\")\n",
    "    w.plot(bubenec_blg, ax=ax, **wght_kws)\n",
    "    contextily.add_basemap(ax=ax, crs=bubenec_tess.crs, source=toner_lite)\n",
    "    ax.set_axis_off()"
   ]
  },
  {
   "cell_type": "code",
   "execution_count": null,
   "metadata": {
    "ExecuteTime": {
     "end_time": "2022-09-23T12:54:29.786613Z",
     "start_time": "2022-09-23T12:54:23.392974Z"
    },
    "slideshow": {
     "slide_type": "subslide"
    }
   },
   "outputs": [],
   "source": [
    "queen_1 = libpysal.weights.contiguity.Queen.from_dataframe(\n",
    "    tessellation, ids=\"uID\", silence_warnings=True\n",
    ")"
   ]
  },
  {
   "cell_type": "code",
   "execution_count": null,
   "metadata": {
    "ExecuteTime": {
     "end_time": "2022-09-23T12:54:30.148671Z",
     "start_time": "2022-09-23T12:54:29.788836Z"
    },
    "slideshow": {
     "slide_type": "subslide"
    },
    "tags": []
   },
   "outputs": [],
   "source": [
    "tessellation[\"neighbors\"] = momepy.Neighbors(\n",
    "    tessellation, queen_1, \"uID\", weighted=True\n",
    ").series"
   ]
  },
  {
   "cell_type": "code",
   "execution_count": null,
   "metadata": {
    "ExecuteTime": {
     "end_time": "2022-09-23T12:54:33.321188Z",
     "start_time": "2022-09-23T12:54:30.152794Z"
    },
    "slideshow": {
     "slide_type": "subslide"
    },
    "tags": []
   },
   "outputs": [],
   "source": [
    "tessellation[\"covered_area\"] = momepy.CoveredArea(tessellation, queen_1, \"uID\").series"
   ]
  },
  {
   "cell_type": "code",
   "execution_count": null,
   "metadata": {
    "ExecuteTime": {
     "end_time": "2022-09-23T12:54:41.185450Z",
     "start_time": "2022-09-23T12:54:33.325306Z"
    },
    "slideshow": {
     "slide_type": "subslide"
    },
    "tags": []
   },
   "outputs": [],
   "source": [
    "buildings[\"neighbor_distance\"] = momepy.NeighborDistance(\n",
    "    buildings, queen_1, \"uID\"\n",
    ").series"
   ]
  },
  {
   "cell_type": "code",
   "execution_count": null,
   "metadata": {
    "ExecuteTime": {
     "end_time": "2022-09-23T12:54:48.520233Z",
     "start_time": "2022-09-23T12:54:41.189527Z"
    }
   },
   "outputs": [],
   "source": [
    "fig, ax = plt.subplots(1, 2, figsize=(24, 12))\n",
    "for i, (df, col) in enumerate(\n",
    "    zip([tessellation, buildings], [\"covered_area\", \"neighbor_distance\"])\n",
    "):\n",
    "    df.plot(col, ax=ax[i], **symb_kws)\n",
    "    ax[i].set_title(col, **font_kws)\n",
    "    ax[i].set_axis_off()\n",
    "fig.subplots_adjust(wspace=-.05)"
   ]
  },
  {
   "cell_type": "code",
   "execution_count": null,
   "metadata": {
    "ExecuteTime": {
     "end_time": "2022-09-23T12:55:00.314039Z",
     "start_time": "2022-09-23T12:54:48.522727Z"
    },
    "slideshow": {
     "slide_type": "subslide"
    }
   },
   "outputs": [],
   "source": [
    "queen_3 = libpysal.weights.higher_order(queen_1, k=3, lower_order=True, silence_warnings=True)\n",
    "buildings_q1 = libpysal.weights.contiguity.Queen.from_dataframe(\n",
    "    buildings, silence_warnings=True\n",
    ")\n",
    "buildings[\"interbuilding_distance\"] = momepy.MeanInterbuildingDistance(\n",
    "    buildings, queen_1, \"uID\", queen_3\n",
    ").series\n",
    "buildings[\"adjacency\"] = momepy.BuildingAdjacency(\n",
    "    buildings, queen_3, \"uID\", buildings_q1\n",
    ").series"
   ]
  },
  {
   "cell_type": "markdown",
   "metadata": {},
   "source": [
    "Visualizing actual shared-wall building adjacency:"
   ]
  },
  {
   "cell_type": "code",
   "execution_count": null,
   "metadata": {
    "ExecuteTime": {
     "end_time": "2022-09-23T12:55:02.482697Z",
     "start_time": "2022-09-23T12:55:00.317302Z"
    }
   },
   "outputs": [],
   "source": [
    "buildings_sample = libpysal.weights.contiguity.Queen.from_dataframe(\n",
    "    bubenec_blg, silence_warnings=True\n",
    ")\n",
    "\n",
    "with warnings.catch_warnings():\n",
    "    warnings.simplefilter(\"ignore\")\n",
    "    ax = bubenec_blg.plot(figsize=(12, 12), color=\"lightgray\")\n",
    "    buildings_sample.plot(bubenec_blg, ax=ax, **wght_kws)\n",
    "    bubenec_blg.centroid.plot(ax=ax, color='black')\n",
    "    contextily.add_basemap(ax=ax, crs=bubenec_tess.crs, source=toner_lite)\n",
    "    ax.set_axis_off()"
   ]
  },
  {
   "cell_type": "code",
   "execution_count": null,
   "metadata": {
    "ExecuteTime": {
     "end_time": "2022-09-23T12:55:08.216423Z",
     "start_time": "2022-09-23T12:55:02.485274Z"
    }
   },
   "outputs": [],
   "source": [
    "fig, ax = plt.subplots(1, 2, figsize=(24, 12))\n",
    "for i, col in enumerate([\"interbuilding_distance\", \"adjacency\"]):\n",
    "    buildings.plot(col, ax=ax[i], **symb_kws)\n",
    "    ax[i].set_title(col, **font_kws)\n",
    "    ax[i].set_axis_off()\n",
    "fig.subplots_adjust(wspace=-.05)"
   ]
  },
  {
   "cell_type": "code",
   "execution_count": null,
   "metadata": {
    "ExecuteTime": {
     "end_time": "2022-09-23T12:55:10.747045Z",
     "start_time": "2022-09-23T12:55:08.218658Z"
    },
    "slideshow": {
     "slide_type": "subslide"
    }
   },
   "outputs": [],
   "source": [
    "profile = momepy.StreetProfile(streets, buildings)"
   ]
  },
  {
   "cell_type": "code",
   "execution_count": null,
   "metadata": {
    "ExecuteTime": {
     "end_time": "2022-09-23T12:55:10.752771Z",
     "start_time": "2022-09-23T12:55:10.749756Z"
    },
    "slideshow": {
     "slide_type": "subslide"
    }
   },
   "outputs": [],
   "source": [
    "streets[\"width\"] = profile.w"
   ]
  },
  {
   "cell_type": "code",
   "execution_count": null,
   "metadata": {
    "ExecuteTime": {
     "end_time": "2022-09-23T12:55:10.758444Z",
     "start_time": "2022-09-23T12:55:10.755192Z"
    },
    "slideshow": {
     "slide_type": "subslide"
    }
   },
   "outputs": [],
   "source": [
    "streets[\"width_deviation\"] = profile.wd"
   ]
  },
  {
   "cell_type": "code",
   "execution_count": null,
   "metadata": {
    "ExecuteTime": {
     "end_time": "2022-09-23T12:55:10.764614Z",
     "start_time": "2022-09-23T12:55:10.761187Z"
    },
    "slideshow": {
     "slide_type": "subslide"
    }
   },
   "outputs": [],
   "source": [
    "streets[\"openness\"] = profile.o"
   ]
  },
  {
   "cell_type": "code",
   "execution_count": null,
   "metadata": {
    "ExecuteTime": {
     "end_time": "2022-09-23T12:55:13.456847Z",
     "start_time": "2022-09-23T12:55:10.766709Z"
    }
   },
   "outputs": [],
   "source": [
    "fig, ax = plt.subplots(1, 3, figsize=(24, 12))\n",
    "for i, col in enumerate([\"width\", \"width_deviation\", \"openness\"]):\n",
    "    streets.plot(col, ax=ax[i], **symb_kws)\n",
    "    ax[i].set_title(col, **font_kws)\n",
    "    ax[i].set_axis_off()\n",
    "fig.subplots_adjust(wspace=-.05)"
   ]
  },
  {
   "cell_type": "markdown",
   "metadata": {
    "slideshow": {
     "slide_type": "subslide"
    }
   },
   "source": [
    "#### Intensity"
   ]
  },
  {
   "cell_type": "code",
   "execution_count": null,
   "metadata": {
    "ExecuteTime": {
     "end_time": "2022-09-23T12:55:13.487107Z",
     "start_time": "2022-09-23T12:55:13.459201Z"
    },
    "slideshow": {
     "slide_type": "subslide"
    }
   },
   "outputs": [],
   "source": [
    "tessellation[\"car\"] = momepy.AreaRatio(\n",
    "    tessellation, buildings, \"area\", \"area\", \"uID\"\n",
    ").series"
   ]
  },
  {
   "cell_type": "code",
   "execution_count": null,
   "metadata": {
    "ExecuteTime": {
     "end_time": "2022-09-23T12:55:15.899961Z",
     "start_time": "2022-09-23T12:55:13.490537Z"
    }
   },
   "outputs": [],
   "source": [
    "ax = tessellation.plot(\"car\", figsize=(12, 6), vmin=0, vmax=1, legend=True)\n",
    "ax.set_title(\"covered area ratio\", **font_kws)\n",
    "ax.set_axis_off()"
   ]
  },
  {
   "cell_type": "markdown",
   "metadata": {
    "slideshow": {
     "slide_type": "subslide"
    }
   },
   "source": [
    "#### Connectivity"
   ]
  },
  {
   "cell_type": "code",
   "execution_count": null,
   "metadata": {
    "ExecuteTime": {
     "end_time": "2022-09-23T12:55:16.036006Z",
     "start_time": "2022-09-23T12:55:15.902683Z"
    },
    "slideshow": {
     "slide_type": "subslide"
    }
   },
   "outputs": [],
   "source": [
    "graph = momepy.gdf_to_nx(streets)"
   ]
  },
  {
   "cell_type": "code",
   "execution_count": null,
   "metadata": {
    "ExecuteTime": {
     "end_time": "2022-09-23T12:55:19.818418Z",
     "start_time": "2022-09-23T12:55:16.039211Z"
    }
   },
   "outputs": [],
   "source": [
    "graph = momepy.node_degree(graph)\n",
    "graph = momepy.closeness_centrality(graph, radius=400, distance=\"mm_len\")\n",
    "graph = momepy.meshedness(graph, radius=400, distance=\"mm_len\")"
   ]
  },
  {
   "cell_type": "code",
   "execution_count": null,
   "metadata": {
    "ExecuteTime": {
     "end_time": "2022-09-23T12:55:19.903050Z",
     "start_time": "2022-09-23T12:55:19.821155Z"
    },
    "slideshow": {
     "slide_type": "subslide"
    }
   },
   "outputs": [],
   "source": [
    "nodes, streets = momepy.nx_to_gdf(graph)"
   ]
  },
  {
   "cell_type": "code",
   "execution_count": null,
   "metadata": {
    "ExecuteTime": {
     "end_time": "2022-09-23T12:55:21.926101Z",
     "start_time": "2022-09-23T12:55:19.906261Z"
    }
   },
   "outputs": [],
   "source": [
    "fig, ax = plt.subplots(1, 3, figsize=(24, 12))\n",
    "for i, col in enumerate([\"degree\", \"closeness\", \"meshedness\"]):\n",
    "    if col == \"closeness\":\n",
    "        lgnd_kwds = {\"fmt\": \"{:.6f}\"}\n",
    "        nodes.plot(col, ax=ax[i], markersize=1, legend_kwds=lgnd_kwds, **symb_kws)\n",
    "    else:\n",
    "        nodes.plot(col, ax=ax[i], markersize=1, **symb_kws)\n",
    "    ax[i].set_title(col, **font_kws)\n",
    "    ax[i].set_axis_off()\n",
    "fig.subplots_adjust(wspace=-.05)"
   ]
  },
  {
   "cell_type": "code",
   "execution_count": null,
   "metadata": {
    "ExecuteTime": {
     "end_time": "2022-09-23T12:55:25.979771Z",
     "start_time": "2022-09-23T12:55:21.928400Z"
    },
    "slideshow": {
     "slide_type": "subslide"
    }
   },
   "outputs": [],
   "source": [
    "buildings[\"nodeID\"] = momepy.get_node_id(buildings, nodes, streets, \"nodeID\", \"nID\")"
   ]
  },
  {
   "cell_type": "markdown",
   "metadata": {},
   "source": [
    "Link all data together (to tessellation cells or buildings)."
   ]
  },
  {
   "cell_type": "code",
   "execution_count": null,
   "metadata": {
    "ExecuteTime": {
     "end_time": "2022-09-23T12:55:26.007920Z",
     "start_time": "2022-09-23T12:55:25.983284Z"
    }
   },
   "outputs": [],
   "source": [
    "tessellation"
   ]
  },
  {
   "cell_type": "code",
   "execution_count": null,
   "metadata": {
    "ExecuteTime": {
     "end_time": "2022-09-23T12:55:26.048354Z",
     "start_time": "2022-09-23T12:55:26.009580Z"
    },
    "slideshow": {
     "slide_type": "subslide"
    }
   },
   "outputs": [],
   "source": [
    "merged = tessellation.merge(buildings.drop(columns=[\"nID\", \"geometry\"]), on=\"uID\", suffixes=('_tess', '_blg'))\n",
    "merged = merged.merge(streets.drop(columns=\"geometry\"), on=\"nID\", how=\"left\")\n",
    "merged = merged.merge(nodes.drop(columns=\"geometry\"), on=\"nodeID\", how=\"left\")\n",
    "merged.columns"
   ]
  },
  {
   "cell_type": "code",
   "execution_count": null,
   "metadata": {
    "ExecuteTime": {
     "end_time": "2022-09-23T12:55:26.091664Z",
     "start_time": "2022-09-23T12:55:26.050500Z"
    }
   },
   "outputs": [],
   "source": [
    "merged"
   ]
  },
  {
   "cell_type": "markdown",
   "metadata": {
    "slideshow": {
     "slide_type": "slide"
    }
   },
   "source": [
    "## 4. Understanding context & clustering\n",
    "\n",
    "### Context\n",
    "Measure first, second, and third quartile of distribution of values within an area around each building."
   ]
  },
  {
   "cell_type": "code",
   "execution_count": null,
   "metadata": {
    "ExecuteTime": {
     "end_time": "2022-09-23T12:55:26.098030Z",
     "start_time": "2022-09-23T12:55:26.094221Z"
    }
   },
   "outputs": [],
   "source": [
    "drop_cols = [\"uID\", \"nodeID\", \"nID\", \"mm_len\", \"node_start\", \"node_end\", \"geometry\"]"
   ]
  },
  {
   "cell_type": "code",
   "execution_count": null,
   "metadata": {
    "ExecuteTime": {
     "end_time": "2022-09-23T12:56:50.573450Z",
     "start_time": "2022-09-23T12:55:26.101542Z"
    }
   },
   "outputs": [],
   "source": [
    "percentiles = []\n",
    "for column in tqdm.auto.tqdm(merged.columns.drop(drop_cols)):\n",
    "    perc = momepy.Percentiles(merged, column, queen_3, \"uID\", verbose=False).frame\n",
    "    perc.columns = [f\"{column}_\" + str(x) for x in perc.columns]\n",
    "    percentiles.append(perc)"
   ]
  },
  {
   "cell_type": "code",
   "execution_count": null,
   "metadata": {
    "ExecuteTime": {
     "end_time": "2022-09-23T12:56:50.614032Z",
     "start_time": "2022-09-23T12:56:50.577922Z"
    },
    "slideshow": {
     "slide_type": "subslide"
    }
   },
   "outputs": [],
   "source": [
    "percentiles_joined = pandas.concat(percentiles, axis=1)\n",
    "percentiles_joined"
   ]
  },
  {
   "cell_type": "code",
   "execution_count": null,
   "metadata": {
    "ExecuteTime": {
     "end_time": "2022-09-23T12:56:50.619999Z",
     "start_time": "2022-09-23T12:56:50.616556Z"
    }
   },
   "outputs": [],
   "source": [
    "merged[\"convexity_50\"] = percentiles_joined[\"convexity_50\"].values"
   ]
  },
  {
   "cell_type": "code",
   "execution_count": null,
   "metadata": {
    "ExecuteTime": {
     "end_time": "2022-09-23T12:56:57.635287Z",
     "start_time": "2022-09-23T12:56:50.622518Z"
    }
   },
   "outputs": [],
   "source": [
    "fig, ax = plt.subplots(1, 2, figsize=(24, 12))\n",
    "for i, (df, col) in enumerate(\n",
    "    zip([tessellation, merged], [\"convexity\", \"convexity_50\"])\n",
    "):\n",
    "    df.plot(col, ax=ax[i], **symb_kws)\n",
    "    ax[i].set_title(col, **font_kws)\n",
    "    ax[i].set_axis_off()\n",
    "fig.subplots_adjust(wspace=-.05)"
   ]
  },
  {
   "cell_type": "markdown",
   "metadata": {},
   "source": [
    "### Clustering\n",
    "\n",
    "Standardize values before clustering with [`clustergram`](https://github.com/martinfleis/clustergram)."
   ]
  },
  {
   "cell_type": "code",
   "execution_count": null,
   "metadata": {
    "ExecuteTime": {
     "end_time": "2022-09-23T12:56:57.692003Z",
     "start_time": "2022-09-23T12:56:57.637269Z"
    },
    "slideshow": {
     "slide_type": "subslide"
    }
   },
   "outputs": [],
   "source": [
    "standardized = (\n",
    "    percentiles_joined - percentiles_joined.mean()\n",
    ") / percentiles_joined.std()\n",
    "standardized"
   ]
  },
  {
   "cell_type": "markdown",
   "metadata": {},
   "source": [
    "#### How many clusters?"
   ]
  },
  {
   "cell_type": "code",
   "execution_count": null,
   "metadata": {
    "ExecuteTime": {
     "end_time": "2022-09-23T12:57:00.851792Z",
     "start_time": "2022-09-23T12:56:57.695041Z"
    },
    "slideshow": {
     "slide_type": "subslide"
    }
   },
   "outputs": [],
   "source": [
    "cgram = clustergram.Clustergram(range(1, 12), n_init=10, random_state=0)\n",
    "cgram.fit(standardized.fillna(0))"
   ]
  },
  {
   "cell_type": "code",
   "execution_count": null,
   "metadata": {
    "ExecuteTime": {
     "end_time": "2022-09-23T12:57:01.792256Z",
     "start_time": "2022-09-23T12:57:00.854042Z"
    },
    "slideshow": {
     "slide_type": "subslide"
    }
   },
   "outputs": [],
   "source": [
    "with warnings.catch_warnings():\n",
    "    warnings.simplefilter(\"ignore\")\n",
    "    show(cgram.bokeh())"
   ]
  },
  {
   "cell_type": "code",
   "execution_count": null,
   "metadata": {
    "ExecuteTime": {
     "end_time": "2022-09-23T12:57:01.802904Z",
     "start_time": "2022-09-23T12:57:01.794433Z"
    }
   },
   "outputs": [],
   "source": [
    "cgram.labels.head()"
   ]
  },
  {
   "cell_type": "code",
   "execution_count": null,
   "metadata": {
    "ExecuteTime": {
     "end_time": "2022-09-23T12:57:01.807330Z",
     "start_time": "2022-09-23T12:57:01.804322Z"
    },
    "slideshow": {
     "slide_type": "subslide"
    }
   },
   "outputs": [],
   "source": [
    "merged[\"cluster\"] = cgram.labels[8].values"
   ]
  },
  {
   "cell_type": "code",
   "execution_count": null,
   "metadata": {
    "ExecuteTime": {
     "end_time": "2022-09-23T12:57:01.826733Z",
     "start_time": "2022-09-23T12:57:01.809126Z"
    },
    "slideshow": {
     "slide_type": "fragment"
    }
   },
   "outputs": [],
   "source": [
    "urban_types = buildings[[\"geometry\", \"uID\"]].merge(merged[[\"uID\", \"cluster\"]], on=\"uID\")"
   ]
  },
  {
   "cell_type": "code",
   "execution_count": null,
   "metadata": {
    "ExecuteTime": {
     "end_time": "2022-09-23T12:57:03.954538Z",
     "start_time": "2022-09-23T12:57:01.830076Z"
    },
    "slideshow": {
     "slide_type": "subslide"
    }
   },
   "outputs": [],
   "source": [
    "urban_types.explore(\n",
    "    \"cluster\", categorical=True, prefer_canvas=True, tiles=\"CartoDB Positron\",\n",
    ")"
   ]
  },
  {
   "cell_type": "markdown",
   "metadata": {
    "tags": []
   },
   "source": [
    "-------------------------------------------\n",
    "\n",
    "# Thank you!\n",
    "\n",
    "--------------------------------------------------"
   ]
  },
  {
   "cell_type": "markdown",
   "metadata": {
    "tags": []
   },
   "source": [
    "## 5. Wrap up\n",
    "\n",
    "### What now?\n",
    "\n",
    "- `momepy` documentation ([docs.momepy.org](https://docs.momepy.org))\n",
    "- real-life method to detect urban types ([github.com/martinfleis/numerical-taxonomy-paper](https://github.com/martinfleis/numerical-taxonomy-paper))\n",
    "- get in touch!\n",
    "| | Martin | James |\n",
    "| -- | ------- | ------- | \n",
    "| **email:** | martin@martinfleischmann.net | gaboardijd@ornl.gov\n",
    "| **github:** | [@martinfleis](https://github.com/martinfleis) | [@jGaboardi](https://github.com/jGaboardi)"
   ]
  },
  {
   "cell_type": "markdown",
   "metadata": {},
   "source": [
    "## References\n",
    "\n",
    "* **Alessandro Araldi and Giovanni Fusco**. (2019) From the street to the metropolitan region: Pedestrian perspective in urban fabric analysis. *Environment and Planning B: Urban Analytics and City Science*. 46(7):1243–1263. doi: [10.1177/2399808319832612](https://doi.org/10.1177/2399808319832612).\n",
    "* **Melih Basaraner and Sinan Cetinkaya**. (2017) Performance of shape indices and classification schemes for characterising perceptual shape complexity of building footprints in GIS. *International Journal of Geographical Information Science*. 31(10):1952–1977. doi: [10.1080/13658816.2017.1346257](https://doi.org/10.1080/13658816.2017.1346257).\n",
    "* **Geoff Boeing.** (2017) OSMnx: New Methods for Acquiring, Constructing, Analyzing, and Visualizing Complex Street Networks. *Computers, Environment and Urban Systems* 65:126-139. doi: [10.1016/j.compenvurbsys.2017.05.004](https://doi.org/10.1016/j.compenvurbsys.2017.05.004).\n",
    "* **Loeiz Bourdic, Serge Salat, and Caroline Nowacki**. (2012) Assessing cities: a new system of cross-scale spatial indicators. *Building Research & Information*. 40(5):592–605. doi: [10.1080/09613218.2012.703488](https://doi.org/10.1080/09613218.2012.703488).\n",
    "* **Zofie Cimburova**. (2017) Urban Morphology in Prague: Automatic Classification in GIS. [PhD thesis](https://dspace.cvut.cz/handle/10467/67903). *Czech Technical University, Prague*.\n",
    "* **Jacob Dibble et al**. (2017) On the origin of spaces: Morphometric foundations of urban form evolution. *Environment and Planning B: Urban Analytics and City Science*. 46(4):707–730. doi: [10.1177/2399808317725075](https://doi.org/).\n",
    "* **Alessandra Feliciotti**. (2018) Resilience and urban design: A systems approach to the study of resilience in urban form – Learning from the case of the Gorbals. PhD thesis, *University of Strathclyde, Glasgow*. doi: [10.48730/yrsa-7747](https://doi.org/10.48730/yrsa-7747).\n",
    "* **Martin Fleischmann**. (2019) momepy: Urban Morphology Measuring Toolkit. *Journal of Open Source Software*. 4(43):1807. doi: [10.21105/joss.01807](https://doi.org/10.21105/joss.01807).\n",
    "* **Martin Fleischmann**. (2021). martinfleis/clustergram: v0.6.0 (v0.6.0). *Zenodo*. doi: [10.5281/zenodo.5680799](https://doi.org/10.5281/zenodo.5680799).\n",
    "* **Martin Fleischmann et al**. (2020) Morphological tessellation as a way of partitioning space: Improving consistency in urban morphology at the plot scale. *Computers, Environment and Urban Systems*. 80:101441. doi: [10.1016/j.compenvurbsys.2019.101441](https://doi.org/10.1016/j.compenvurbsys.2019.101441).\n",
    "* **Martin Fleischmann et al**. (2021) Methodological Foundation of a Numerical Taxonomy of Urban Form. *Environment and Planning B: Urban Analytics and City Science*. 49(4):1283-1299 doi: [10.1177/23998083211059835](https://doi.org/10.1177/23998083211059835).\n",
    "* **Jorge Gil et al**. (2012) On the Discovery of Urban Typologies: Data Mining the Multi-dimensional Character of Neighbourhoods. *[Urban Morphology](http://www.urbanform.org/online_public/2012_1.shtml)*, [16(1):27–40](http://www.urbanform.org/online_unlimited/pdf2012/201216_27.pdf).\n",
    "* **Rachid Hamaina, Thomas Leduc, and Guillaume Moreau**. (2012) Towards Urban Fabrics Characterization Based on Buildings Footprints. In *Bridging the Geographic Information Sciences*, 2:327–346. Springer, Berlin, Heidelberg. doi: [10.1007/978-3-642-29063-3_18](https://doi.org/10.1007/978-3-642-29063-3_18).\n",
    "* **Birgit Hausleitner and Meta Berghauser Pont**. (2017) Development of a configurational typology for micro-businesses integrating geometric and configurational variables. In *11th Space Syntax Symposium*. [66:1-14](https://pure.tudelft.nl/ws/portalfiles/portal/51462127/Paer_66_book_proceedings_28092017.pdf).\n",
    "* **Txomin Hermosilla et al**. (2012) Assessing contextual descriptive features for plot-based classification of urban areas. *Landscape and Urban Planning*, 106(1):124–137. doi: [10.1016/j.landurbplan.2012.02.008](https://doi.org/10.1016/j.landurbplan.2012.02.008).\n",
    "* **Kelsey Jordahl et al**. (2022). geopandas/geopandas: v0.11.1 (v0.11.1). *Zenodo*. doi: [10.5281/zenodo.6894736](https://doi.org/10.5281/zenodo.6894736).\n",
    "* **Kevin McGarigal and Barbara J. Marks**. (1995) FRAGSTATS: Spatial Pattern Analysis Program for Quantifying Landscape Structure. *Gen. Tech. Rep. PNW-GTR-351. Portland, OR: U.S. Department of Agriculture, Forest Service, Pacific Northwest Research Station*. doi: [10.2737/PNW-GTR-351](https://doi.org/10.2737/PNW-GTR-351).\n",
    "* **Sergio Porta, Paolo Crucitti, and Vito Latora**. (2006) The network analysis of urban streets: A primal approach. *Environment and Planning B: Planning and Design*. 33(5):705–725. doi: [10.1068/b32045](https://doi.org/10.1068/b32045).\n",
    "* **Sergio J. Rey et al**. (2021) The PySAL Ecosystem: Philosophy and Implementation. *Geographical Analysis*, 54(3):467–487. doi: [10.1111/gean.12276](https://doi.org/10.1111/gean.12276).\n",
    "* **Patrick M. Schirmer and Kay W. Axhausen**. (2015) A multiscale classification of urban morphology. *Journal of Transport and Land Use*. 9(1):101–130. doi: [10.5198/jtlu.2015.667](https://doi.org/10.5198/jtlu.2015.667).\n",
    "* **Pratyush Tripathy et al**. (2020) An open-source tool to extract natural continuity and hierarchy of urban street networks. *Environment and Planning B: Urban Analytics and City Science*. 48(8):2188-2205, doi: [10.1177/2399808320967680](https://doi.org/10.1177/2399808320967680).\n",
    "* **Sven Vanderhaegen and Frank Canters**. (2017) Mapping urban form and function at city block level using spatial metrics. *Landscape and Urban Planning*. 167:399–409. doi: [10.1016/j.landurbplan.2017.05.023](https://doi.org/10.1016/j.landurbplan.2017.05.023)."
   ]
  },
  {
   "cell_type": "markdown",
   "metadata": {
    "ExecuteTime": {
     "end_time": "2022-09-20T20:44:45.088318Z",
     "start_time": "2022-09-20T20:44:45.080406Z"
    }
   },
   "source": [
    "## Acknowledgement\n",
    "\n",
    "The following acknowledgement applies to James D. Gaboardi (affiliation 4) only:\n",
    "\n",
    "> This manuscript has been authored in part by UT-Battelle LLC under contract DE- AC05-00OR22725 with the US Department of Energy (DOE). The US government retains and the publisher, by accepting the article for publication, acknowledges that the US government retains a nonexclusive, paid-up, irrevocable worldwide license to publish or reproduce the published form of this manuscript, or allow others to do so, for US government purposes. DOE will provide public access to these results of federally sponsored research in accordance with the DOE Public Access Plan (http://energy.gov/downloads/doe-public-access-plan)."
   ]
  }
 ],
 "metadata": {
  "celltoolbar": "Slideshow",
  "interpreter": {
   "hash": "bc4a4469e95da12e1ed14e2f6acdb633e9704968c1ad2dba36fd8ef867579feb"
  },
  "kernelspec": {
   "display_name": "Python [conda env:sdss2022]",
   "language": "python",
   "name": "conda-env-sdss2022-py"
  },
  "language_info": {
   "codemirror_mode": {
    "name": "ipython",
    "version": 3
   },
   "file_extension": ".py",
   "mimetype": "text/x-python",
   "name": "python",
   "nbconvert_exporter": "python",
   "pygments_lexer": "ipython3",
   "version": "3.10.6"
  }
 },
 "nbformat": 4,
 "nbformat_minor": 4
}
